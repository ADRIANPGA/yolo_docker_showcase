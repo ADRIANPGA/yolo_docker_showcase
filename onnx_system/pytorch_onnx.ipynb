{
 "cells": [
  {
   "cell_type": "code",
   "execution_count": 1,
   "metadata": {},
   "outputs": [
    {
     "name": "stdout",
     "output_type": "stream",
     "text": [
      "Requirement already satisfied: torch in c:\\users\\enes-\\onedrive\\masaüstü\\0dan\\object_detection_microservice\\venv\\lib\\site-packages (2.2.0)\n",
      "Requirement already satisfied: torchvision in c:\\users\\enes-\\onedrive\\masaüstü\\0dan\\object_detection_microservice\\venv\\lib\\site-packages (0.17.0)\n",
      "Requirement already satisfied: onnx in c:\\users\\enes-\\onedrive\\masaüstü\\0dan\\object_detection_microservice\\venv\\lib\\site-packages (1.15.0)\n",
      "Requirement already satisfied: filelock in c:\\users\\enes-\\onedrive\\masaüstü\\0dan\\object_detection_microservice\\venv\\lib\\site-packages (from torch) (3.13.1)\n",
      "Requirement already satisfied: typing-extensions>=4.8.0 in c:\\users\\enes-\\onedrive\\masaüstü\\0dan\\object_detection_microservice\\venv\\lib\\site-packages (from torch) (4.9.0)\n",
      "Requirement already satisfied: sympy in c:\\users\\enes-\\onedrive\\masaüstü\\0dan\\object_detection_microservice\\venv\\lib\\site-packages (from torch) (1.12)\n",
      "Requirement already satisfied: networkx in c:\\users\\enes-\\onedrive\\masaüstü\\0dan\\object_detection_microservice\\venv\\lib\\site-packages (from torch) (3.2.1)\n",
      "Requirement already satisfied: jinja2 in c:\\users\\enes-\\onedrive\\masaüstü\\0dan\\object_detection_microservice\\venv\\lib\\site-packages (from torch) (3.1.3)\n",
      "Requirement already satisfied: fsspec in c:\\users\\enes-\\onedrive\\masaüstü\\0dan\\object_detection_microservice\\venv\\lib\\site-packages (from torch) (2024.2.0)\n",
      "Requirement already satisfied: numpy in c:\\users\\enes-\\onedrive\\masaüstü\\0dan\\object_detection_microservice\\venv\\lib\\site-packages (from torchvision) (1.26.4)\n",
      "Requirement already satisfied: requests in c:\\users\\enes-\\onedrive\\masaüstü\\0dan\\object_detection_microservice\\venv\\lib\\site-packages (from torchvision) (2.31.0)\n",
      "Requirement already satisfied: pillow!=8.3.*,>=5.3.0 in c:\\users\\enes-\\onedrive\\masaüstü\\0dan\\object_detection_microservice\\venv\\lib\\site-packages (from torchvision) (10.2.0)\n",
      "Requirement already satisfied: protobuf>=3.20.2 in c:\\users\\enes-\\onedrive\\masaüstü\\0dan\\object_detection_microservice\\venv\\lib\\site-packages (from onnx) (4.23.4)\n",
      "Requirement already satisfied: MarkupSafe>=2.0 in c:\\users\\enes-\\onedrive\\masaüstü\\0dan\\object_detection_microservice\\venv\\lib\\site-packages (from jinja2->torch) (2.1.5)\n",
      "Requirement already satisfied: charset-normalizer<4,>=2 in c:\\users\\enes-\\onedrive\\masaüstü\\0dan\\object_detection_microservice\\venv\\lib\\site-packages (from requests->torchvision) (3.3.2)\n",
      "Requirement already satisfied: idna<4,>=2.5 in c:\\users\\enes-\\onedrive\\masaüstü\\0dan\\object_detection_microservice\\venv\\lib\\site-packages (from requests->torchvision) (3.6)\n",
      "Requirement already satisfied: urllib3<3,>=1.21.1 in c:\\users\\enes-\\onedrive\\masaüstü\\0dan\\object_detection_microservice\\venv\\lib\\site-packages (from requests->torchvision) (2.2.0)\n",
      "Requirement already satisfied: certifi>=2017.4.17 in c:\\users\\enes-\\onedrive\\masaüstü\\0dan\\object_detection_microservice\\venv\\lib\\site-packages (from requests->torchvision) (2024.2.2)\n",
      "Requirement already satisfied: mpmath>=0.19 in c:\\users\\enes-\\onedrive\\masaüstü\\0dan\\object_detection_microservice\\venv\\lib\\site-packages (from sympy->torch) (1.3.0)\n"
     ]
    }
   ],
   "source": [
    "# Ensure you have the torch and onnx libraries installed. If not, you can install them via pip:\n",
    "!pip install torch torchvision onnx\n"
   ]
  },
  {
   "cell_type": "code",
   "execution_count": null,
   "metadata": {},
   "outputs": [],
   "source": [
    "# import torch\n",
    "import torch\n",
    "\n",
    "\n",
    "#Load your pre-trained PyTorch model (model.pt) into memory\n",
    "# Load the PyTorch model\n",
    "model = torch.load('model.pt')\n"
   ]
  },
  {
   "cell_type": "markdown",
   "metadata": {},
   "source": [
    "model: The loaded PyTorch model.\n",
    "input_example: An example input tensor used to trace the model. Make sure it has the correct shape and data type.\n",
    "'model.onnx': Output file path where the ONNX model will be saved.\n",
    "export_params=True: Export model parameters along with the model."
   ]
  },
  {
   "cell_type": "code",
   "execution_count": null,
   "metadata": {},
   "outputs": [],
   "source": [
    "# Export the loaded PyTorch model to ONNX format\n",
    "# Input example\n",
    "input_example = torch.randn(1, 3, 224, 224)  # Adjust the input shape accordingly\n",
    "\n",
    "# Export the model to ONNX\n",
    "torch.onnx.export(model, input_example, 'model.onnx', export_params=True)\n"
   ]
  },
  {
   "cell_type": "markdown",
   "metadata": {},
   "source": [
    "Verify the ONNX Model:\n",
    "After exporting, you can verify the ONNX model using ONNX tools or libraries. For example:"
   ]
  },
  {
   "cell_type": "code",
   "execution_count": null,
   "metadata": {},
   "outputs": [],
   "source": [
    "import onnx\n",
    "\n",
    "# Load the ONNX model\n",
    "onnx_model = onnx.load('model.onnx')\n",
    "\n",
    "# Verify the ONNX model\n",
    "onnx.checker.check_model(onnx_model)\n"
   ]
  },
  {
   "cell_type": "markdown",
   "metadata": {},
   "source": []
  }
 ],
 "metadata": {
  "kernelspec": {
   "display_name": "Python 3",
   "language": "python",
   "name": "python3"
  },
  "language_info": {
   "codemirror_mode": {
    "name": "ipython",
    "version": 3
   },
   "file_extension": ".py",
   "mimetype": "text/x-python",
   "name": "python",
   "nbconvert_exporter": "python",
   "pygments_lexer": "ipython3",
   "version": "3.11.7"
  }
 },
 "nbformat": 4,
 "nbformat_minor": 2
}
